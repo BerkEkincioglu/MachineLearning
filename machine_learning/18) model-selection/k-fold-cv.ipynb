{
 "cells": [
  {
   "cell_type": "code",
   "execution_count": 2,
   "metadata": {},
   "outputs": [],
   "source": [
    "import pandas as pd \n",
    "import numpy as np "
   ]
  },
  {
   "cell_type": "code",
   "execution_count": 3,
   "metadata": {},
   "outputs": [],
   "source": [
    "from sklearn.datasets import load_iris\n",
    "iris = load_iris()\n",
    "x = iris.data \n",
    "y = iris.target"
   ]
  },
  {
   "cell_type": "code",
   "execution_count": 4,
   "metadata": {},
   "outputs": [],
   "source": [
    "from sklearn.preprocessing import StandardScaler\n",
    "sc = StandardScaler()\n",
    "x = sc.fit_transform(x)"
   ]
  },
  {
   "cell_type": "code",
   "execution_count": 5,
   "metadata": {},
   "outputs": [],
   "source": [
    "from sklearn.model_selection import train_test_split\n",
    "x_train,x_test,y_train,y_test = train_test_split(x,y,test_size=0.33,random_state=42)"
   ]
  },
  {
   "cell_type": "code",
   "execution_count": 6,
   "metadata": {},
   "outputs": [],
   "source": [
    "from sklearn.neighbors import KNeighborsClassifier\n",
    "knn = KNeighborsClassifier(n_neighbors=3)"
   ]
  },
  {
   "cell_type": "code",
   "execution_count": 7,
   "metadata": {},
   "outputs": [
    {
     "output_type": "stream",
     "name": "stdout",
     "text": "average accuracy : 0.93 average std: 0.1004987562112089\n"
    }
   ],
   "source": [
    "#Cross validation \n",
    "from sklearn.model_selection import cross_val_score\n",
    "cvs = cross_val_score(estimator=knn,X = x_train,y=y_train, cv = 10)\n",
    "print('average accuracy : {} average std: {}'.format(np.mean(cvs),np.std(cvs)))"
   ]
  },
  {
   "cell_type": "code",
   "execution_count": 8,
   "metadata": {},
   "outputs": [
    {
     "output_type": "stream",
     "name": "stdout",
     "text": "test accuracry 0.98\n"
    }
   ],
   "source": [
    "knn.fit(x_train,y_train)\n",
    "print('test accuracry',knn.score(x_test,y_test))"
   ]
  },
  {
   "cell_type": "code",
   "execution_count": 21,
   "metadata": {},
   "outputs": [
    {
     "output_type": "stream",
     "name": "stdout",
     "text": "tuned hyperparameter K:  {'n_neighbors': 1}\ntuned parametreye gore en iyi accuracy (best score):  1.0\n"
    }
   ],
   "source": [
    "#Grid search for cross validation\n",
    "from sklearn.model_selection import GridSearchCV\n",
    "grid = {'n_neighbors':np.arange(1,50)}\n",
    "knn = KNeighborsClassifier()\n",
    "knn_cv = GridSearchCV(knn,grid,cv=10)\n",
    "knn_cv.fit(x_train,y_train)\n",
    "print(\"tuned hyperparameter K: \",knn_cv.best_params_)\n",
    "print(\"tuned parametreye gore en iyi accuracy (best score): \",knn_cv.best_score_)"
   ]
  },
  {
   "cell_type": "code",
   "execution_count": 13,
   "metadata": {},
   "outputs": [],
   "source": [
    "x_ = x[:100,:]\n",
    "y_ = y[:100]\n",
    "x_train,x_test,y_train,y_test = train_test_split(x_,y_,test_size=0.33,random_state=42)\n",
    "from sklearn.linear_model import LogisticRegression\n",
    "lr = LogisticRegression()"
   ]
  },
  {
   "cell_type": "code",
   "execution_count": 14,
   "metadata": {},
   "outputs": [
    {
     "output_type": "stream",
     "name": "stdout",
     "text": "tuned hyperparameters: (best parameters):  {'C': 0.1, 'penalty': 'l2'}\naccuracy:  1.0\n"
    }
   ],
   "source": [
    "grid = {'C':np.logspace(-3,3,7),'penalty':['l1','l2']}    # l1 = lasso ve l2 = ridge\n",
    "\n",
    "lr_cv = GridSearchCV(lr,grid,cv=10)\n",
    "lr_cv.fit(x_train,y_train)\n",
    "\n",
    "print(\"tuned hyperparameters: (best parameters): \",lr_cv.best_params_)\n",
    "print(\"accuracy: \",lr_cv.best_score_)"
   ]
  },
  {
   "cell_type": "code",
   "execution_count": null,
   "metadata": {},
   "outputs": [],
   "source": []
  }
 ],
 "metadata": {
  "language_info": {
   "codemirror_mode": {
    "name": "ipython",
    "version": 3
   },
   "file_extension": ".py",
   "mimetype": "text/x-python",
   "name": "python",
   "nbconvert_exporter": "python",
   "pygments_lexer": "ipython3",
   "version": "3.7.6-final"
  },
  "orig_nbformat": 2,
  "kernelspec": {
   "name": "python37664bitbasecondadaaf1e94dae24b6f8d0e7b42e0b816cc",
   "display_name": "Python 3.7.6 64-bit ('base': conda)"
  }
 },
 "nbformat": 4,
 "nbformat_minor": 2
}